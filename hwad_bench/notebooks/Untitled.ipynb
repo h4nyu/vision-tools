{
 "cells": [
  {
   "cell_type": "code",
   "execution_count": 30,
   "id": "79267826",
   "metadata": {},
   "outputs": [],
   "source": [
    "import pandas as pd\n",
    "from toolz.curried import filter,map, pipe"
   ]
  },
  {
   "cell_type": "code",
   "execution_count": 31,
   "id": "f1fb96e1",
   "metadata": {},
   "outputs": [],
   "source": [
    "df = pd.read_csv(\"../pipeline/fold_0_submission.csv\")\n"
   ]
  },
  {
   "cell_type": "code",
   "execution_count": 32,
   "id": "f7b5fc20",
   "metadata": {},
   "outputs": [],
   "source": [
    "top1 = pipe(\n",
    "    df['predictions'].tolist(),\n",
    "    map(lambda x: x.split(\" \")[0]),\n",
    "    list\n",
    ")"
   ]
  },
  {
   "cell_type": "code",
   "execution_count": 33,
   "id": "02d10eb4",
   "metadata": {},
   "outputs": [],
   "source": [
    "total_count = len(top1)"
   ]
  },
  {
   "cell_type": "code",
   "execution_count": 34,
   "id": "2973aef3",
   "metadata": {},
   "outputs": [],
   "source": [
    "new_count = pipe(\n",
    "    top1,\n",
    "    filter(lambda x: x == 'new_individual'),\n",
    "    list,\n",
    "    len\n",
    ")"
   ]
  },
  {
   "cell_type": "code",
   "execution_count": 35,
   "id": "46884cd3",
   "metadata": {},
   "outputs": [
    {
     "data": {
      "text/plain": [
       "0.617863785949349"
      ]
     },
     "execution_count": 35,
     "metadata": {},
     "output_type": "execute_result"
    }
   ],
   "source": [
    "new_count/total_count"
   ]
  },
  {
   "cell_type": "code",
   "execution_count": null,
   "id": "afafae32",
   "metadata": {},
   "outputs": [],
   "source": []
  }
 ],
 "metadata": {
  "kernelspec": {
   "display_name": "Python 3 (ipykernel)",
   "language": "python",
   "name": "python3"
  },
  "language_info": {
   "codemirror_mode": {
    "name": "ipython",
    "version": 3
   },
   "file_extension": ".py",
   "mimetype": "text/x-python",
   "name": "python",
   "nbconvert_exporter": "python",
   "pygments_lexer": "ipython3",
   "version": "3.7.12"
  }
 },
 "nbformat": 4,
 "nbformat_minor": 5
}
